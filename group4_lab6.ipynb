{
 "cells": [
  {
   "cell_type": "markdown",
   "metadata": {},
   "source": [
    "# Lab 6 - Exploring Azure\n",
    "\n",
    "## Welcome\n",
    "\n",
    "This is it. This is our final lab together and one that is entirely unique in terms of approach and expectations. I'll explain all of that in a moment, but first I wanted to congratulate all of you.\n",
    "\n",
    "#### Well done.\n",
    "\n",
    "This course - _this quarter_ - is a difficult one and all of you have put in the time and effort to get through it. For some of you, python might have clicked immediately; for others, it can take time... _it can still be happening_. But, just like with writing, the more you do it, the better you'll become.\n",
    "\n",
    "As I've stressed repeatedly, rather than memorizing every piece of syntax, make sure you focus on **how** computation works. The core ideas of flow control, iteration, abstraction... functions, classes, and methods. These ideas aren't unique to python and if you can grasp them; then, you're able to work in almost any programming language. **Yes**, there will be hiccups, but if you can _think computationally_ if you can break apart a big problem into the steps that a computer can follow - then you can accomplish amazing things.\n",
    "\n",
    "#### Which brings us back to this lab.\n",
    "\n",
    "Unlike in your other labs, everything in this lab is 'new.' We've never had the ability to access the Azure services at this scale before and what you're learning here really is a skillset that's at the forefront of how geospatial technologies are moving. We're going to be working directly with REST APIs and virtual machines, intergrating our work flow into the computational power available through cloud services.\n",
    "\n",
    "But, that opportunity comes with a cost. Unlike in our other labs, I haven't necessarily **done** this. In the past, a unique error might pop up (as we are all running complicated systems that leverage lots of different libraries), but fundamentally I knew what the solution _should be_ every time. Here, that isn't _necessarily_ the case. We're going to be working through this **together**. \n",
    "\n",
    "It's a risk, but it comes with an awfully big reward.\n",
    "#### So what does that mean?\n",
    "Well, it means that grade wise you are all going to do fine. Let's just get that out of the way. It means that we have to trust one another and help one another through this process.\n",
    "\n",
    "And, with all of that in mind, let's begin."
   ]
  },
  {
   "cell_type": "markdown",
   "metadata": {},
   "source": [
    "## Getting set up.\n",
    "\n",
    "As always, you're going to want to build your environment.\n",
    "I would recommend you use python 3.7 and that you install jupyter, folium, and geopandas. I used the `-c conda-forge` to install all three at once, but do what works for you.\n",
    "\n",
    "In addition, you're going to need to install the azure services we're going to be using. \n",
    "`pip install azure-cognitiveservices-search-newssearch`\n",
    "\n",
    "You'll also have access to their maps service and their sentiment analysis (although you could also use one of our other mapping, geocoding, or sentiment analysis services instead - such as folium, geopy, or NLTK)."
   ]
  },
  {
   "cell_type": "markdown",
   "metadata": {},
   "source": [
    "## Our goal and some guidance\n",
    "\n",
    "Here's where things get tricky. Unlike in other labs, I don't have a set of questions for you to work through. Instead, I'm going to give you an end goal and then some tips on how you might approach it. I'll also be constantly visiting each group to help you generate ideas, goals, and methods.\n",
    "\n",
    "For what it's worth, this is how your Cartography seminar will work, so think of this as a bit of a taste of what's to come. **Have fun**. Be bold and be creative. \n",
    "\n",
    "### Your task: Create a map of how people are talking about a place\n",
    "**Wait, what?**\n",
    "\n",
    "What I want you to do is create a map that visualizes how a place is being talked about in the news, on social media, etc.\n",
    "\n",
    "**Wait, how?**\n",
    "\n",
    "Well, take a look at [this quickstart guide for sentiment analysis](https://docs.microsoft.com/en-us/azure/cognitive-services/text-analytics/quickstarts/python). You can find another [tutorial here](https://www.pingshiuanchua.com/blog/post/simple-sentiment-analysis-python). That second one uses a few approaches, but I recommend you stick with azure or NLTK. \n",
    "\n",
    "Sentiment analysis gives you a very rough, machine-learning creates sense of the 'emotion' (positive or negative) in a given set of texts. It's extremely useful, for example, if you are trying to monitor how people is talking about your business(es) online. \n",
    "\n",
    "Then take a look at [this guide on conducting news searches](https://docs.microsoft.com/en-us/azure/cognitive-services/bing-news-search/news-sdk-python-quickstart). (note: you've already set up your environment as they do at the beginning). \n",
    "\n",
    "You can also read about azure maps' geocoding service [here](https://docs.microsoft.com/en-us/rest/api/maps/search).\n",
    "\n",
    "But, remember, you have other sources of information as well! You could - for example - monitor twitter for tweets about a place; you could use the geopy geocoder; you could - being careful with your credits - use the Arc GIS API geocoder or other services.\n",
    "\n",
    "**At this point, you have a lot of tools open to you**. Talk with your group, talk with me, come up with a plan."
   ]
  },
  {
   "cell_type": "markdown",
   "metadata": {},
   "source": [
    "### A sample workflow\n",
    "\n",
    "If you're stuck, you can follow along with me as I (try to) biuld something during the lab.\n",
    "\n",
    "Here's the workflow I'll follow:\n",
    "1. Conduct a news search about an area (probably Tacoma, but if that doesn't get enough results somewhere else).\n",
    "2. Run the results of that search through the sentiment analysis\n",
    "3. Map it\n",
    "        a. First, just simply putting points on a map with the color related to the sentiment.\n",
    "        b. Then, getting fancier. I'll try to create a heat map and then even normalize that heat map based on sentiment.\n",
    "        \n",
    "        \n",
    "You can find the keys for the existing services in a password protected file [here](https://github.com/UWTMGIS/GIS501_w19_files/blob/master/w19_azurekeys.pdf.zip). I will provide the password in class.\n",
    "    "
   ]
  },
  {
   "cell_type": "markdown",
   "metadata": {},
   "source": [
    "# Let's go!\n",
    "## Get fancy, get creative, have fun."
   ]
  },
  {
   "cell_type": "code",
   "execution_count": null,
   "metadata": {},
   "outputs": [],
   "source": []
  }
 ],
 "metadata": {
  "kernelspec": {
   "display_name": "Python 3",
   "language": "python",
   "name": "python3"
  },
  "language_info": {
   "codemirror_mode": {
    "name": "ipython",
    "version": 3
   },
   "file_extension": ".py",
   "mimetype": "text/x-python",
   "name": "python",
   "nbconvert_exporter": "python",
   "pygments_lexer": "ipython3",
   "version": "3.7.2"
  }
 },
 "nbformat": 4,
 "nbformat_minor": 2
}
