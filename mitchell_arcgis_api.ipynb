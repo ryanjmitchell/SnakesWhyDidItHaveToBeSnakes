{
 "cells": [
  {
   "cell_type": "markdown",
   "metadata": {},
   "source": [
    "# ArcGIS API for Python and GeoPandas"
   ]
  },
  {
   "cell_type": "markdown",
   "metadata": {},
   "source": [
    "### Constructing a person\n",
    "\n",
    "Create a script that creates the class Person with the following properties:\n",
    "\n",
    "1. The class should initialize with a name and a birthday, but the birthday should be set as None by default.\n",
    "2. The class should have three methods: .getName(), .setBirthday(), and .getAge()\n",
    "3. .getName() returns the name of the person, .setBirthday sets the birthday to a date, and .getAge() returns how many days old the Person is.\n",
    "4. .getAge() (and therefore .setBirthday()) will require you to work with the datetime module. Learn more about it [here](http://effbot.org/librarybook/datetime.htm)"
   ]
  },
  {
   "cell_type": "code",
   "execution_count": 2,
   "metadata": {},
   "outputs": [
    {
     "name": "stdout",
     "output_type": "stream",
     "text": [
      "Cobra Commander\n",
      "38\n",
      "13990\n"
     ]
    }
   ],
   "source": [
    "import datetime\n",
    "from datetime import date\n",
    "\n",
    "class Person:\n",
    "    def __init__(self, name, lastName):\n",
    "        self.name = name\n",
    "        self.lastName = lastName\n",
    "        self.birthdate = None\n",
    "        \n",
    "    def age(self):\n",
    "        today = datetime.date.today()\n",
    "        age = today.year - self.birthdate.year\n",
    "        \n",
    "        if today < datetime.date(today.year, self.birthdate.month, self.birthdate.day):\n",
    "            age -= 1\n",
    "            return age\n",
    "    \n",
    "    def setbirthdate(self, year, month, day):\n",
    "        self.birthdate = datetime.date(year, month, day)\n",
    "\n",
    "person = Person(\n",
    "    \"Cobra\",\n",
    "    \"Commander\")\n",
    "                                                   #year, month, date\n",
    "ageDays = (datetime.datetime.now()-datetime.datetime(1980, 10, 16)).days\n",
    "                   #year, month, date\n",
    "person.setbirthdate(1980, 10, 16)\n",
    "\n",
    "print(person.name, person.lastName)\n",
    "print(person.age())\n",
    "print(ageDays)"
   ]
  },
  {
   "cell_type": "markdown",
   "metadata": {},
   "source": [
    "### Happy birthday!\n",
    "\n",
    "Create a new class called song.\n",
    "\n",
    "1. The class should take a variable (a string - make sure to check for this) and store it as lyrics\n",
    "2. It should have a method, .sing(), which prints out the stored lyrics.\n",
    "\n",
    "Additionally:\n",
    "\n",
    "1. Every instance of the class person should now also include a methode .checkBirthday()\n",
    "2. .checkBirthday() should see if today is someone's birthday and if so it should print out \"Happy birthday to you. Happy birthday to you. Happy birthday dear Person_Name, happy birthday to you.\"\n",
    "3. It must do this by using an instance of the Song class. In other words, the .checkBirthday() method is going to call up a specific instance of the Song class."
   ]
  },
  {
   "cell_type": "code",
   "execution_count": 18,
   "metadata": {},
   "outputs": [
    {
     "name": "stdout",
     "output_type": "stream",
     "text": [
      "Dr. Mindbender\n",
      "Happy birthday to you. Happy birthday to you. Happy birthday, Dr. Mindbender, happy birthday to you.\n",
      "2019-02-04\n"
     ]
    }
   ],
   "source": [
    "import datetime\n",
    "from datetime import date \n",
    "    \n",
    "#person\n",
    "class Person(object):\n",
    "    name = ''\n",
    "    bday = None\n",
    "    mmdd = None\n",
    "\n",
    "    def __init__(self, var):\n",
    "        self.name = var\n",
    "    #Name\n",
    "    def getName(self):\n",
    "        return self.name\n",
    "    #Birthday\n",
    "    def setBirthday(self, yr, mo, day):\n",
    "        try:\n",
    "            self.bday = datetime.date(yr, mo, day)\n",
    "            self.mmdd = self.bday.month, self.bday.day \n",
    "        except:\n",
    "            self.bday = datetime.date(1990, 11, 1)\n",
    "            print('REDO FORMAT TO DEFAULT (11/01/1990)')\n",
    "    #Age\n",
    "    def getAge(self):\n",
    "        if self.bday == None:\n",
    "            print('Error: Birthday not set.')\n",
    "            return ''\n",
    "        else:\n",
    "            now = datetime.date.today()\n",
    "            daysAge = now - self.bday\n",
    "            return daysAge\n",
    "\n",
    "    #Song    \n",
    "    def lookupBirthday(self):\n",
    "        d = datetime.date.today()    \n",
    "        mmdd = d.month, d.day          \n",
    "        if self.mmdd == mmdd:       \n",
    "            baby = self.name  \n",
    "            print(Song.sing(baby))\n",
    "            return self.bday\n",
    "        else:\n",
    "            return self.bday\n",
    "        \n",
    "#Lyrics\n",
    "class Song(Person):\n",
    "    def sing(Person):\n",
    "        lyrics = 'Happy birthday to you. Happy birthday to you. Happy birthday', Person, 'happy birthday to you.'\n",
    "        #printed out lots of (,'\n",
    "        return str(lyrics).replace(\"'\", \"\").replace(\"(\",\"\").replace(\")\",\"\") \n",
    "\n",
    "Birth = Person('Dr. Mindbender')\n",
    "i = datetime.date.today()\n",
    "Birth.setBirthday(i.year, i.month, i.day)\n",
    "print(Birth.getName())\n",
    "print(Birth.lookupBirthday())"
   ]
  },
  {
   "cell_type": "markdown",
   "metadata": {},
   "source": [
    "### FizzBuzz\n",
    "\n",
    "There's an age-old programming 'challenge' called FizzBuzz.\n",
    "\n",
    "Create a **function** (call it fizzbuzz) which takes a single number as its parameter. The function then prints out every number from 1 to the input, **except** for numbers divisible by 3 it prints out \"fizz\", for numbers divisible by 5 it prints out \"buzz\", and for numbers divisible by 3 **and** 5 it prints out \"fizzbuzz.\"\n",
    "\n",
    "A few notes:\n",
    "\n",
    "1. Must take input from **outside** of function.\n",
    "2. Must use a function\n",
    "3. Error catching!"
   ]
  },
  {
   "cell_type": "code",
   "execution_count": 38,
   "metadata": {},
   "outputs": [
    {
     "name": "stdout",
     "output_type": "stream",
     "text": [
      "Start Value:1\n",
      "End Value:21\n",
      "1\n",
      "2\n",
      "fizz\n",
      "4\n",
      "buzz\n",
      "fizz\n",
      "7\n",
      "8\n",
      "fizz\n",
      "buzz\n",
      "11\n",
      "fizz\n",
      "13\n",
      "14\n",
      "fizzbuzz\n",
      "16\n",
      "17\n",
      "fizz\n",
      "19\n",
      "buzz\n",
      "fizz\n"
     ]
    }
   ],
   "source": [
    "fizzbuzz = []\n",
    "\n",
    "while True:\n",
    "    try:\n",
    "        start = int(input('Start Value:'))\n",
    "        end = int(input('End Value:'))\n",
    "    # Extra\n",
    "    except (ValueError):\n",
    "        print('Numbers You Fool!')\n",
    "    else:break\n",
    "        \n",
    "for i in range(start,end+1):\n",
    "    entry = ''\n",
    "    if i%3 == 0:\n",
    "        entry += 'fizz'\n",
    "    if i%5 == 0:\n",
    "        entry += 'buzz'\n",
    "    if i%3 != 0 and i%5 != 0:\n",
    "        entry = i\n",
    "    fizzbuzz.append(entry)\n",
    "\n",
    "    \n",
    "for i in fizzbuzz:\n",
    "    print(i)"
   ]
  },
  {
   "cell_type": "markdown",
   "metadata": {},
   "source": [
    "## ArcGIS API for Python"
   ]
  },
  {
   "cell_type": "markdown",
   "metadata": {},
   "source": [
    "### Display layers on a single map."
   ]
  },
  {
   "cell_type": "code",
   "execution_count": 6,
   "metadata": {},
   "outputs": [
    {
     "data": {
      "application/vnd.jupyter.widget-view+json": {
       "model_id": "22a645f2adb543c2b7039b2e9b602ee1",
       "version_major": 2,
       "version_minor": 0
      },
      "text/plain": [
       "MapView(layout=Layout(height='400px', width='100%'))"
      ]
     },
     "metadata": {},
     "output_type": "display_data"
    },
    {
     "data": {
      "text/html": [
       "<div class=\"map-static-img-preview-40e74175-dc3e-464e-a11d-555c0d89fe20\"><img src=\"\"></img></div>"
      ],
      "text/plain": [
       "<IPython.core.display.HTML object>"
      ]
     },
     "metadata": {},
     "output_type": "display_data"
    }
   ],
   "source": [
    "import arcgis, pandas\n",
    "\n",
    "def mapextent(location):\n",
    "    '''A very simple function that returns the map extent coordinates for a string fed into it'''\n",
    "    x = arcgis.geocode(location)[0]\n",
    "    return x['extent']\n",
    "\n",
    "#Setting up our base map.\n",
    "gis = arcgis.GIS('https://uwt-gis-geotech.maps.arcgis.com', 'USER_NAME', 'PASSWORD')\n",
    "tmap = gis.map()\n",
    "tmap.extent = mapextent('Tacoma') #I call the function and pass it the string 'Tacoma'\n",
    "\n",
    "\n",
    "#We can import pandas data fields into the ArcGIS library so long as we set an 'address' field.\n",
    "museumsgis = gis.content.import_data(museums, {'Address' : 'Location'})\n",
    "tmap.add_layer(museumsgis)\n",
    "\n",
    "parksgis = gis.content.import_data(parks, {'Address' : 'Park_Location'})\n",
    "tmap.add_layer(parksgis)\n",
    "\n",
    "tmap"
   ]
  },
  {
   "cell_type": "markdown",
   "metadata": {},
   "source": [
    "### Museum and park pairs.\n",
    "\n",
    "Display a map that has each museum connected to the park to which it is closest."
   ]
  },
  {
   "cell_type": "code",
   "execution_count": 7,
   "metadata": {},
   "outputs": [
    {
     "data": {
      "application/vnd.jupyter.widget-view+json": {
       "model_id": "afe78b4563a04f16a13fa7f207a66176",
       "version_major": 2,
       "version_minor": 0
      },
      "text/plain": [
       "MapView(layout=Layout(height='400px', width='100%'))"
      ]
     },
     "metadata": {},
     "output_type": "display_data"
    },
    {
     "data": {
      "text/html": [
       "<div class=\"map-static-img-preview-e972d5f4-1b4e-403d-9cc4-27f8605c9499\"><img src=\"\"></img></div>"
      ],
      "text/plain": [
       "<IPython.core.display.HTML object>"
      ]
     },
     "metadata": {},
     "output_type": "display_data"
    }
   ],
   "source": [
    "import arcgis, pandas\n",
    "\n",
    "def mapextent(location):\n",
    "    '''A very simple function that returns the map extent coordinates for a string fed into it'''\n",
    "    x = arcgis.geocode(location)[0]\n",
    "    return x['extent']\n",
    "\n",
    "#Setting up our base map.\n",
    "gis = arcgis.GIS('https://uwt-gis-geotech.maps.arcgis.com', 'USER_NAME', 'PASSWORD')\n",
    "tmap = gis.map()\n",
    "tmap.extent = mapextent('Tacoma') #I call the function and pass it the string 'Tacoma'\n",
    "\n",
    "\n",
    "#We can import pandas data fields into the ArcGIS library so long as we set an 'address' field.\n",
    "museumsgis = gis.content.import_data(museums, {'Address' : 'Location'})\n",
    "tmap.add_layer(museumsgis)\n",
    "\n",
    "parksgis = gis.content.import_data(parks, {'Address' : 'Park_Location'})\n",
    "tmap.add_layer(parksgis)\n",
    "\n",
    "\n",
    "nearestpark = arcgis.features.analysis.find_nearest(museumsgis, parksgis, max_count=1,)\n",
    "tmap.add_layer(nearestpark['connecting_lines_layer'])\n",
    "               \n",
    "tmap"
   ]
  },
  {
   "cell_type": "markdown",
   "metadata": {},
   "source": [
    "### Create a map that has on it **only** the shortest combined driving distance between the set of a school, a park, and a museum "
   ]
  },
  {
   "cell_type": "code",
   "execution_count": 10,
   "metadata": {},
   "outputs": [
    {
     "data": {
      "text/html": [
       "<div>\n",
       "<style scoped>\n",
       "    .dataframe tbody tr th:only-of-type {\n",
       "        vertical-align: middle;\n",
       "    }\n",
       "\n",
       "    .dataframe tbody tr th {\n",
       "        vertical-align: top;\n",
       "    }\n",
       "\n",
       "    .dataframe thead th {\n",
       "        text-align: right;\n",
       "    }\n",
       "</style>\n",
       "<table border=\"1\" class=\"dataframe\">\n",
       "  <thead>\n",
       "    <tr style=\"text-align: right;\">\n",
       "      <th></th>\n",
       "      <th>School Name</th>\n",
       "      <th>Grades</th>\n",
       "      <th>Phone</th>\n",
       "      <th>School Location</th>\n",
       "    </tr>\n",
       "  </thead>\n",
       "  <tbody>\n",
       "    <tr>\n",
       "      <th>0</th>\n",
       "      <td>Downing</td>\n",
       "      <td>Elementary</td>\n",
       "      <td>253-571-7100</td>\n",
       "      <td>2502 North Orchard\\r\\nTacoma, WA</td>\n",
       "    </tr>\n",
       "    <tr>\n",
       "      <th>1</th>\n",
       "      <td>Lowell</td>\n",
       "      <td>Elementary</td>\n",
       "      <td>253-571-7200</td>\n",
       "      <td>810 Mr. Dahl Drive\\r\\nTacoma, WA</td>\n",
       "    </tr>\n",
       "    <tr>\n",
       "      <th>2</th>\n",
       "      <td>Truman</td>\n",
       "      <td>Middle Schools</td>\n",
       "      <td>253-571-5600</td>\n",
       "      <td>253-571-5600\\r\\nTacoma, WA</td>\n",
       "    </tr>\n",
       "    <tr>\n",
       "      <th>3</th>\n",
       "      <td>Skyline</td>\n",
       "      <td>Elementary</td>\n",
       "      <td>253-571-7800</td>\n",
       "      <td>2301 North Mildred Street\\r\\nTacoma, WA\\r\\n(47...</td>\n",
       "    </tr>\n",
       "    <tr>\n",
       "      <th>4</th>\n",
       "      <td>Manitou Park</td>\n",
       "      <td>Elementary</td>\n",
       "      <td>253-571-5300</td>\n",
       "      <td>4330 South 66th Street\\r\\nTacoma, WA\\r\\n(47.19...</td>\n",
       "    </tr>\n",
       "  </tbody>\n",
       "</table>\n",
       "</div>"
      ],
      "text/plain": [
       "    School Name          Grades         Phone  \\\n",
       "0       Downing      Elementary  253-571-7100   \n",
       "1        Lowell      Elementary  253-571-7200   \n",
       "2        Truman  Middle Schools  253-571-5600   \n",
       "3       Skyline      Elementary  253-571-7800   \n",
       "4  Manitou Park      Elementary  253-571-5300   \n",
       "\n",
       "                                     School Location  \n",
       "0                   2502 North Orchard\\r\\nTacoma, WA  \n",
       "1                   810 Mr. Dahl Drive\\r\\nTacoma, WA  \n",
       "2                         253-571-5600\\r\\nTacoma, WA  \n",
       "3  2301 North Mildred Street\\r\\nTacoma, WA\\r\\n(47...  \n",
       "4  4330 South 66th Street\\r\\nTacoma, WA\\r\\n(47.19...  "
      ]
     },
     "execution_count": 10,
     "metadata": {},
     "output_type": "execute_result"
    }
   ],
   "source": [
    "import pandas\n",
    "\n",
    "schools = pandas.read_csv('Tacoma_Schools.csv')\n",
    "schools.head()"
   ]
  },
  {
   "cell_type": "code",
   "execution_count": 11,
   "metadata": {},
   "outputs": [
    {
     "data": {
      "application/vnd.jupyter.widget-view+json": {
       "model_id": "c00bf83497d74508ace662034ae92bb2",
       "version_major": 2,
       "version_minor": 0
      },
      "text/plain": [
       "MapView(layout=Layout(height='400px', width='100%'))"
      ]
     },
     "metadata": {},
     "output_type": "display_data"
    },
    {
     "data": {
      "text/html": [
       "<div class=\"map-static-img-preview-d26aaf68-1ff1-4873-a520-cb3025f23cb8\"><img src=\"\"></img></div>"
      ],
      "text/plain": [
       "<IPython.core.display.HTML object>"
      ]
     },
     "metadata": {},
     "output_type": "display_data"
    }
   ],
   "source": [
    "import arcgis, pandas\n",
    "\n",
    "def mapextent(location):\n",
    "    '''A very simple function that returns the map extent coordinates for a string fed into it'''\n",
    "    x = arcgis.geocode(location)[0]\n",
    "    return x['extent']\n",
    "\n",
    "#Setting up our base map.\n",
    "gis = arcgis.GIS('https://uwt-gis-geotech.maps.arcgis.com', 'USER_NAME', 'PASSWORD')\n",
    "tmap = gis.map()\n",
    "tmap.extent = mapextent('Tacoma') #I call the function and pass it the string 'Tacoma'\n",
    "\n",
    "\n",
    "#We can import pandas data fields into the ArcGIS library so long as we set an 'address' field.\n",
    "museumsgis = gis.content.import_data(museums, {'Address' : 'Location'})\n",
    "tmap.add_layer(museumsgis)\n",
    "\n",
    "parksgis = gis.content.import_data(parks, {'Address' : 'Park_Location'})\n",
    "tmap.add_layer(parksgis)\n",
    "\n",
    "schoolsgis = gis.content.import_data(schools, {'Address' : 'School_Location'})\n",
    "tmap.add_layer(schoolsgis)\n",
    "\n",
    "nearestpark = arcgis.features.analysis.find_nearest(museumsgis, parksgis, schoolsgis, max_count=1,)\n",
    "tmap.add_layer(nearestpark['connecting_lines_layer'])\n",
    "               \n",
    "tmap"
   ]
  }
 ],
 "metadata": {
  "kernelspec": {
   "display_name": "Python 3",
   "language": "python",
   "name": "python3"
  },
  "language_info": {
   "codemirror_mode": {
    "name": "ipython",
    "version": 3
   },
   "file_extension": ".py",
   "mimetype": "text/x-python",
   "name": "python",
   "nbconvert_exporter": "python",
   "pygments_lexer": "ipython3",
   "version": "3.6.8"
  }
 },
 "nbformat": 4,
 "nbformat_minor": 2
}
