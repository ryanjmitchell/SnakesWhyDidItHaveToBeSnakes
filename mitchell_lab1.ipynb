{
 "cells": [
  {
   "cell_type": "markdown",
   "metadata": {},
   "source": [
    "# Lab 1"
   ]
  },
  {
   "cell_type": "markdown",
   "metadata": {},
   "source": [
    "## Problem 1: Can I sleep?\n",
    "\n",
    "In this fairly classic problem (so, *yes*, if you feel like it you can easily look up the answer), I'm going to give you three lists. Each list contains two values. The first value is whether it is a weekday or not. The second value is if I am on vacation or not. Your goal is to output whether or not I can sleep in.\n",
    "\n",
    "An example will help.\n",
    "\n",
    "`[True, False]` would mean that it is a weekday and I am not on vacation. **Uh oh, better get up!**\n",
    "\n",
    "`[False, False]` would mean I am not on vacation, but it also isn't a weekday. **Sleep in!**\n",
    "\n",
    "Now, of course, all of this is a bit contrived as with kids there is never any sleeping in, but it's an exercise in evaluating boolean logic."
   ]
  },
  {
   "cell_type": "code",
   "execution_count": 25,
   "metadata": {
    "scrolled": true
   },
   "outputs": [
    {
     "name": "stdout",
     "output_type": "stream",
     "text": [
      "Sleep in! weekend\n",
      "Sleep In! vacation\n",
      "Get Up! work day\n"
     ]
    }
   ],
   "source": [
    "x = [False, True]\n",
    "y = [True, True]\n",
    "z = [True, False]\n",
    "\n",
    "#x\n",
    "if x[0] == False:\n",
    "    print ('Sleep in! weekend')\n",
    "elif x[1] == True:\n",
    "    print('Sleep in! vacation')\n",
    "else:\n",
    "    print('Get Up! work day')\n",
    "\n",
    "#y\n",
    "if y[0] == False:\n",
    "    print ('Sleep In! weekend')\n",
    "elif y[1] == True:\n",
    "    print('Sleep In! vacation')\n",
    "else:\n",
    "    print('Get Up! work day')\n",
    "\n",
    "#z\n",
    "if z[0] == False:\n",
    "    print ('Sleep In! weekend')\n",
    "elif z[1] == True:\n",
    "    print('Sleep In! vacation')\n",
    "else:\n",
    "    print('Get Up! work day')"
   ]
  },
  {
   "cell_type": "markdown",
   "metadata": {},
   "source": [
    "## Problem 2: Odd addition.\n",
    "\n",
    "Another classic with a twist. Here, I'm going to give you three lists of two numbers. What I want you to do is write a script that checks each pair of numbers and *if both numbers are odd* multiplies them and prints the result. Otherwise, it prints the result of adding both numbers.\n",
    "\n",
    "Example: `[3, 5]` would return `15`.\n",
    "\n",
    "While: `[3, 6]`would return `9`.\n",
    "\n",
    "Hint: Look up the modulo operator in python (it's in your lecture as well)."
   ]
  },
  {
   "cell_type": "code",
   "execution_count": 16,
   "metadata": {},
   "outputs": [
    {
     "name": "stdout",
     "output_type": "stream",
     "text": [
      "63\n",
      "13\n",
      "7\n"
     ]
    }
   ],
   "source": [
    "a = [7, 9]\n",
    "b = [10, 3]\n",
    "c = [2, 5]\n",
    "\n",
    "#a\n",
    "if a[0]%2 and a[1]%2: \n",
    "    print (a[0]*a[1])\n",
    "else: \n",
    "    print (a[0]+a[1])\n",
    "\n",
    "#b\n",
    "if b[0]%2 and b[1]%2: \n",
    "    print (b[0]*b[1])\n",
    "else: \n",
    "    print (b[0]+b[1])\n",
    "\n",
    "#c\n",
    "if c[0]%2 and c[1]%2: \n",
    "    print (c[0]*c[1])\n",
    "else: \n",
    "    print (c[0]+c[1])\n",
    "    \n",
    "# https://stackoverflow.com/questions/21837208/check-if-a-number-is-odd-or-even-in-python"
   ]
  },
  {
   "cell_type": "markdown",
   "metadata": {},
   "source": [
    "## Problem 3: Twenty One.\n",
    "\n",
    "Here's a nice relaxing final problem.\n",
    "I'll give you two numbers, return `True` if they add up to 21, return `False` if they don't; however, if the numbers are identical, return the string \"Split\"."
   ]
  },
  {
   "cell_type": "code",
   "execution_count": 24,
   "metadata": {
    "scrolled": true
   },
   "outputs": [
    {
     "name": "stdout",
     "output_type": "stream",
     "text": [
      "True\n",
      "Split\n",
      "False\n"
     ]
    }
   ],
   "source": [
    "p = [10, 11]\n",
    "q = [8, 8]\n",
    "r = [7, 6]\n",
    "\n",
    "#p\n",
    "if p[0]+p[1] == 21:\n",
    "    print('True')\n",
    "elif p[0] == p[1]:\n",
    "    print('Split')\n",
    "else:\n",
    "    print('False')\n",
    "\n",
    "#q\n",
    "if q[0]+q[1] == 21:\n",
    "    print('True')\n",
    "elif q[0] == q[1]:\n",
    "    print('Split')\n",
    "else:\n",
    "    print('False')\n",
    "\n",
    "#r    \n",
    "if r[0]+r[1] == 21:\n",
    "    print('True')\n",
    "elif r[0] == r[1]:\n",
    "    print('Split')\n",
    "else:\n",
    "    print('False')\n",
    "    \n",
    "# Learning Python and https://www.geeksforgeeks.org/difference-operator-python/"
   ]
  }
 ],
 "metadata": {
  "kernelspec": {
   "display_name": "Python 3",
   "language": "python",
   "name": "python3"
  },
  "language_info": {
   "codemirror_mode": {
    "name": "ipython",
    "version": 3
   },
   "file_extension": ".py",
   "mimetype": "text/x-python",
   "name": "python",
   "nbconvert_exporter": "python",
   "pygments_lexer": "ipython3",
   "version": "3.6.8"
  }
 },
 "nbformat": 4,
 "nbformat_minor": 2
}
